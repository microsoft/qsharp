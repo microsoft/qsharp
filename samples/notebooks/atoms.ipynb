{
 "cells": [
  {
   "cell_type": "code",
   "execution_count": null,
   "id": "2815774f",
   "metadata": {},
   "outputs": [],
   "source": [
    "from qsharp_widgets import Atoms"
   ]
  },
  {
   "cell_type": "code",
   "execution_count": null,
   "id": "1ee17b44",
   "metadata": {},
   "outputs": [],
   "source": [
    "layout = {\n",
    "  \"cols\": 36,\n",
    "  \"zones\": [\n",
    "    { \"title\": \"Register 1\", \"rows\": 17, \"kind\": \"register\" },\n",
    "    { \"title\": \"Interaction Zone\", \"rows\": 4, \"kind\": \"interaction\" },\n",
    "    { \"title\": \"Register 2\", \"rows\": 17, \"kind\": \"register\" },\n",
    "    { \"title\": \"Measurement Zone\", \"rows\": 4, \"kind\": \"measurement\" }\n",
    "  ]\n",
    "}\n",
    "\n",
    "trace = {\n",
    "    \"metadata\": { \"name\": \"test-rosebud-1a\" },\n",
    "    \"qubits\": [\n",
    "      [0, 0],\n",
    "      [0, 1],\n",
    "      [0, 2],\n",
    "      [0, 3],\n",
    "      [0, 4],\n",
    "      [0, 5],\n",
    "      [1, 0],\n",
    "      [1, 1],\n",
    "      [1, 2],\n",
    "      [1, 3],\n",
    "      [1, 4],\n",
    "      [1, 5],\n",
    "      [2, 0],\n",
    "      [2, 1],\n",
    "      [2, 2],\n",
    "      [2, 3],\n",
    "      [2, 4],\n",
    "      [2, 5],\n",
    "      [3, 0],\n",
    "      [3, 1],\n",
    "      [3, 2],\n",
    "      [3, 3],\n",
    "      [3, 4],\n",
    "      [3, 5],\n",
    "    ],\n",
    "    \"steps\": [\n",
    "      { \"id\": 1, \"ops\": [\"sx 0\", \"sx 1\", \"sx 2\", \"sx 3\"] },\n",
    "      {\n",
    "        \"id\": 2,\n",
    "        \"ops\": [\"move(17, 0) 0\", \"move(17, 1) 1\", \"move(17, 2) 2\", \"move(17, 3) 3\"],\n",
    "      },\n",
    "      { \"id\": 3, \"ops\": [\"cz 0, 1\", \"cz 2, 3\"] },\n",
    "      {\n",
    "        \"id\": 4,\n",
    "        \"ops\": [\"move(0, 0) 0\", \"move(0, 1) 1\", \"move(0, 2) 2\", \"move(0, 3) 3\"],\n",
    "      },\n",
    "      { \"id\": 5, \"ops\": [\"rz(0.7854) 0\", \"rz(0.7854) 2\"] },\n",
    "      { \"id\": 6, \"ops\": [\"move(38, 0) 1\", \"move(38, 1) 3\"] },\n",
    "      { \"id\": 7, \"ops\": [\"mz 1\", \"mz 3\"] },\n",
    "      { \"id\": 8, \"ops\": [\"reset 1\", \"reset 3\"] },\n",
    "      { \"id\": 9, \"ops\": [\"move(0, 1) 1\", \"move(0, 3) 3\"] },\n",
    "      { \"id\": 9, \"ops\": [\"rz(0.7854) 8\", \"rz(0.7854) 10\"] },\n",
    "      { \"id\": 10, \"ops\": [\"sx 8\", \"sx 9\", \"sx 10\", \"sx 11\"] },\n",
    "      {\n",
    "        \"id\": 11,\n",
    "        \"ops\": [\"move(18, 2) 8\", \"move(18, 3) 9\", \"move(18, 4) 10\", \"move(18, 5) 11\"],\n",
    "      },\n",
    "      { \"id\": 12, \"ops\": [\"cz 8, 9\", \"cz 10, 11\"] },\n",
    "      {\n",
    "        \"id\": 13,\n",
    "        \"ops\": [\"move(1, 2) 8\", \"move(1, 3) 9\", \"move(1, 4) 10\", \"move(1, 5) 11\"],\n",
    "      },\n",
    "      { \"id\": 14, \"ops\": [\"move(39, 3) 9\", \"move(39, 5) 11\"] },\n",
    "      { \"id\": 15, \"ops\": [\"mz 9\", \"mz 11\"] },\n",
    "      { \"id\": 16, \"ops\": [\"reset 9\", \"reset 11\"] },\n",
    "      { \"id\": 17, \"ops\": [\"move(1, 3) 9\", \"move(1, 5) 11\"] },\n",
    "    ],\n",
    "  }"
   ]
  },
  {
   "cell_type": "code",
   "execution_count": null,
   "id": "84b3c90c",
   "metadata": {},
   "outputs": [],
   "source": [
    "display(Atoms(layout, trace))"
   ]
  }
 ],
 "metadata": {
  "kernelspec": {
   "display_name": ".venv",
   "language": "python",
   "name": "python3"
  },
  "language_info": {
   "codemirror_mode": {
    "name": "ipython",
    "version": 3
   },
   "file_extension": ".py",
   "mimetype": "text/x-python",
   "name": "python",
   "nbconvert_exporter": "python",
   "pygments_lexer": "ipython3",
   "version": "3.13.7"
  }
 },
 "nbformat": 4,
 "nbformat_minor": 5
}
